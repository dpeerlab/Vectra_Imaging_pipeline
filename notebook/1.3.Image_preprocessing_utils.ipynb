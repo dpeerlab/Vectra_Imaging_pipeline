{
 "cells": [
  {
   "cell_type": "code",
   "execution_count": 1,
   "metadata": {},
   "outputs": [],
   "source": [
    "from PIL import Image\n",
    "from pdb import set_trace\n",
    "from itertools import repeat\n",
    "\n",
    "import skimage.morphology\n",
    "import concurrent.futures\n",
    "import matplotlib.pyplot as plt\n",
    "import skimage.measure\n",
    "import numpy as np\n",
    "import pandas as pd\n",
    "import cv2\n",
    "import glob\n",
    "import os\n",
    "import sys\n",
    "import imageio\n",
    "import shutil"
   ]
  },
  {
   "cell_type": "markdown",
   "metadata": {},
   "source": [
    "## Extract dataset metadata"
   ]
  },
  {
   "cell_type": "code",
   "execution_count": 2,
   "metadata": {},
   "outputs": [],
   "source": [
    "dataset_tif_dir = '/fast/vijay/lung_adenocarcinoma/SCLC2_TIF'\n",
    "dataset_name = os.path.basename(dataset_tif_dir).split('_')[0]\n",
    "output_basedir = '/fast/vijay/lung_adenocarcinoma/{}_processed/'.format(dataset_name)\n",
    "tif_files = glob.glob(os.path.join(dataset_tif_dir, '*.tif'))\n",
    "os.makedirs(output_basedir, exist_ok=True)\n",
    "channel_map = {\n",
    "                'LUAD': {\n",
    "                    'CD8': 0, 'FoxP3': 1, 'CTLA4': 2, 'CD56': 3, \n",
    "                    'Perforin': 4, 'INSM1_CK7': 5, 'DAPI_Core': 6\n",
    "                },\n",
    "                'SCLC1': {\n",
    "                    'CD8': 0, 'FoxP3': 1, 'CTLA4': 2, 'CD56': 3, \n",
    "                    'Perforin': 4, 'INSM1_CK7': 5, 'DAPI_Core': 6\n",
    "                },\n",
    "                'SCLC2': {\n",
    "                    'CD8': 0, 'FOXP3': 1, 'CTLA4': 2, 'Perforin': 3, \n",
    "                    'CD56': 4, 'INSM1_CK7': 5, 'DAPI_Core': 6\n",
    "                }\n",
    "            }"
   ]
  },
  {
   "cell_type": "markdown",
   "metadata": {},
   "source": [
    "## Extract channels of interest"
   ]
  },
  {
   "cell_type": "code",
   "execution_count": 3,
   "metadata": {},
   "outputs": [],
   "source": [
    "def extract_channel(img, channel_n, out_dir):\n",
    "    img.seek(channel_n)\n",
    "    out_name = os.path.join(out_dir, '{}.png'.format(\n",
    "                os.path.splitext(os.path.basename(img.filename))[0]))\n",
    "    Image.fromarray(np.array(img)).convert('RGB').save(out_name)"
   ]
  },
  {
   "cell_type": "markdown",
   "metadata": {},
   "source": [
    "# Identify TMA regions"
   ]
  },
  {
   "cell_type": "markdown",
   "metadata": {},
   "source": [
    "## Extract autofluorescent channel"
   ]
  },
  {
   "cell_type": "code",
   "execution_count": 4,
   "metadata": {},
   "outputs": [
    {
     "name": "stdout",
     "output_type": "stream",
     "text": [
      "Extracting channel 7 from image 81/81\r"
     ]
    }
   ],
   "source": [
    "channel_num = channel_map[dataset_name]['DAPI_Core'] + 1\n",
    "channel_out_dir = os.path.join(output_basedir, 'extracted_channel_{}'.format(channel_num))\n",
    "os.makedirs(channel_out_dir, exist_ok=True) \n",
    "for idx, file_n in enumerate(tif_files): \n",
    "    img = Image.open(file_n)\n",
    "    sys.stdout.write('Extracting channel {} from image {}/{}\\r'.format(\n",
    "        channel_num, idx+1, len(tif_files)))\n",
    "    sys.stdout.flush()\n",
    "    try:         \n",
    "        # extract the last channel (autofluorescence)  \n",
    "        extract_channel(img, channel_num, channel_out_dir)\n",
    "    except Exception as e: \n",
    "        print(e)"
   ]
  },
  {
   "cell_type": "markdown",
   "metadata": {},
   "source": [
    "## Mask out TMA region & isolate mispredictions"
   ]
  },
  {
   "cell_type": "code",
   "execution_count": 5,
   "metadata": {},
   "outputs": [],
   "source": [
    "tma_outdir = os.path.join(output_basedir, 'masks_tma')\n",
    "os.makedirs(tma_outdir, exist_ok=True)\n",
    "manual_valdir = os.path.join(output_basedir, 'manual_validationg')\n",
    "os.makedirs(manual_valdir, exist_ok=True)"
   ]
  },
  {
   "cell_type": "code",
   "execution_count": 6,
   "metadata": {},
   "outputs": [],
   "source": [
    "def extract_tma_region(file_n):\n",
    "    img = ~cv2.imread(file_n)\n",
    "    out_path = '{}.png'.format(os.path.splitext(os.path.basename(file_n))[0])\n",
    "   \n",
    "    # threshold image \n",
    "    gray_img = cv2.cvtColor(img, cv2.COLOR_BGR2GRAY)\n",
    "    thresh = ~cv2.threshold(gray_img, 0, 255, cv2.THRESH_BINARY + cv2.THRESH_OTSU)[1]\n",
    "    \n",
    "    # find contours\n",
    "    contours = cv2.findContours(cv2.dilate(thresh, \n",
    "                    cv2.getStructuringElement(cv2.MORPH_ELLIPSE, (15,15))), \n",
    "                    cv2.RETR_TREE, cv2.CHAIN_APPROX_SIMPLE)[0]\n",
    "    cnt_areas = [cv2.contourArea(c) for c in contours]\n",
    "    sorted_cnt_areas = np.sort(cnt_areas)\n",
    "    cnt = contours[cnt_areas.index(sorted_cnt_areas[-1])]\n",
    "\n",
    "    # find tma region\n",
    "    (x,y),radius = cv2.minEnclosingCircle(cnt)\n",
    "    center = (int(x), int(y))\n",
    "    radius = int(radius)\n",
    "    \n",
    "    # Mask for noise\n",
    "    filtered_mask = thresh.copy()\n",
    "    cv2.circle(filtered_mask, center, radius + 30, (0, 0, 0), -1)\n",
    "    \n",
    "    # Check if any TMA region is being excluded\n",
    "    if np.count_nonzero(filtered_mask) > 3000: \n",
    "        return None\n",
    "    \n",
    "    # Mask for TMA\n",
    "    tma_mask = np.zeros(thresh.shape, dtype=np.uint8)\n",
    "    cv2.circle(tma_mask, center, radius + 30, (255, 255, 255), -1)\n",
    "    cv2.imwrite(os.path.join(tma_outdir, out_path), tma_mask)\n",
    "   \n",
    "    return tma_mask\n"
   ]
  },
  {
   "cell_type": "code",
   "execution_count": 7,
   "metadata": {},
   "outputs": [],
   "source": [
    "channel_files = glob.glob('{}/*.png'.format(channel_out_dir))\n",
    "\n",
    "# # Extract masks in parallel\n",
    "# executor = concurrent.futures.ProcessPoolExecutor(max_workers=8)\n",
    "# tma_masks = executor.map(extract_tma_region, files)\n",
    "# for i in tma_masks: print(i)\n",
    "\n",
    "for file_n in channel_files:\n",
    "    tma_mask = extract_tma_region(file_n)\n",
    "    if tma_mask is None: shutil.copy(file_n, os.path.join(output_basedir, 'manual_validationg'))"
   ]
  },
  {
   "cell_type": "markdown",
   "metadata": {},
   "source": [
    "# Remove autofluorescence from CD8 channel"
   ]
  },
  {
   "cell_type": "markdown",
   "metadata": {},
   "source": [
    "## Extract CD8 channel"
   ]
  },
  {
   "cell_type": "code",
   "execution_count": 8,
   "metadata": {},
   "outputs": [
    {
     "name": "stdout",
     "output_type": "stream",
     "text": [
      "Extracting channel 0 from image 81/81\r"
     ]
    }
   ],
   "source": [
    "channel_num = channel_map[dataset_name]['CD8']\n",
    "cd8_out_dir = os.path.join(output_basedir, 'extracted_channel_{}'.format(channel_num))\n",
    "os.makedirs(cd8_out_dir, exist_ok=True) \n",
    "for idx, file_n in enumerate(tif_files): \n",
    "    img = Image.open(file_n)\n",
    "    sys.stdout.write('Extracting channel {} from image {}/{}\\r'.format(\n",
    "        channel_num, idx+1, len(tif_files)))\n",
    "    sys.stdout.flush()\n",
    "    try: \n",
    "        # extract the CD8 channel\n",
    "        extract_channel(img, channel_num, cd8_out_dir)\n",
    "    except Exception as e: \n",
    "        print(e)"
   ]
  },
  {
   "cell_type": "markdown",
   "metadata": {},
   "source": [
    "## Extract DAPI channel"
   ]
  },
  {
   "cell_type": "code",
   "execution_count": 9,
   "metadata": {},
   "outputs": [
    {
     "name": "stdout",
     "output_type": "stream",
     "text": [
      "Extracting channel 6 from image 81/81\r"
     ]
    }
   ],
   "source": [
    "channel_num = channel_map[dataset_name]['DAPI_Core']\n",
    "dapi_out_dir = os.path.join(output_basedir, 'extracted_channel_{}'.format(channel_num))\n",
    "os.makedirs(dapi_out_dir, exist_ok=True) \n",
    "for idx, file_n in enumerate(tif_files): \n",
    "    img = Image.open(file_n)\n",
    "    sys.stdout.write('Extracting channel {} from image {}/{}\\r'.format(\n",
    "        channel_num, idx+1, len(tif_files)))\n",
    "    sys.stdout.flush()\n",
    "    try: \n",
    "        # extract the DAPI channel  \n",
    "        extract_channel(img, channel_num, dapi_out_dir)\n",
    "    except Exception as e: \n",
    "        print(e)"
   ]
  },
  {
   "cell_type": "markdown",
   "metadata": {},
   "source": [
    "## Dilate DAPI channel & mask CD8+ cells"
   ]
  },
  {
   "cell_type": "code",
   "execution_count": 10,
   "metadata": {},
   "outputs": [],
   "source": [
    "''' Dilate DAPI and mask the CD8 cells'''\n",
    "cd8_mask_outdir = os.path.join(output_basedir, 'cd8_autofluorescence_masksg')\n",
    "os.makedirs(cd8_mask_outdir, exist_ok=True)\n",
    "for cd8_file, dapi_file in zip(sorted(glob.glob('{}/*.png'.format(cd8_out_dir))),\n",
    "                               sorted(glob.glob('{}/*.png'.format(dapi_out_dir)))):\n",
    "    if (os.path.basename(cd8_file).split('-')[0] != os.path.basename(cd8_file).split('-')[0]): continue\n",
    "    \n",
    "    # CD8 channel\n",
    "    img1 = ~cv2.imread(cd8_file)\n",
    "    gray_img = cv2.cvtColor(img1, cv2.COLOR_BGR2GRAY)\n",
    "    thresh1 = ~cv2.threshold(gray_img, 0, 255, cv2.THRESH_BINARY + cv2.THRESH_OTSU)[1]\n",
    "\n",
    "    # DAPI channel\n",
    "    img = ~cv2.imread(dapi_file)\n",
    "    gray_img = cv2.cvtColor(img, cv2.COLOR_BGR2GRAY)\n",
    "    thresh = ~cv2.threshold(gray_img, 0, 255, cv2.THRESH_BINARY + cv2.THRESH_OTSU)[1]\n",
    "    thresh = cv2.dilate(thresh, cv2.getStructuringElement(cv2.MORPH_ELLIPSE, (10, 10)))\n",
    "\n",
    "    # CD8 mask\n",
    "    cd8_mask = cv2.bitwise_and(img1, img1, mask=~cv2.bitwise_and(~thresh, thresh1))\n",
    "    out_path = '{}.png'.format(os.path.splitext(os.path.basename(cd8_file))[0])\n",
    "    \n",
    "    # Save mask\n",
    "    cv2.imwrite(os.path.join(cd8_mask_outdir, out_path), ~cv2.bitwise_and(~thresh, thresh1))"
   ]
  },
  {
   "cell_type": "markdown",
   "metadata": {},
   "source": [
    "## Plot masks in a grid"
   ]
  },
  {
   "cell_type": "code",
   "execution_count": 11,
   "metadata": {},
   "outputs": [
    {
     "data": {
      "text/plain": [
       "True"
      ]
     },
     "execution_count": 11,
     "metadata": {},
     "output_type": "execute_result"
    }
   ],
   "source": [
    "hstacked_img = []\n",
    "vstacked_img = []\n",
    "\n",
    "for idx, i in enumerate(glob.glob('{}/*.png'.format(manual_valdir))):\n",
    "    img = cv2.resize(cv2.imread(i), dsize=None, fx=0.25, fy=0.25)\n",
    "    vstacked_img.append(np.vstack((img, np.ones((5, img.shape[1], 3))* 255)))\n",
    "    if ((idx + 1) % 10 == 0): \n",
    "        vstacked_img = np.vstack(vstacked_img)\n",
    "        hstacked_img.append(vstacked_img)\n",
    "        hstacked_img.append(np.ones((vstacked_img.shape[0], 5, 3))* 255)\n",
    "        vstacked_img = []\n",
    "        \n",
    "if len(vstacked_img) and len(vstacked_img) != 10: \n",
    "    for i in range(10 - len(vstacked_img)): vstacked_img.append(np.zeros_like(vstacked_img[0]))\n",
    "        \n",
    "if len(vstacked_img): \n",
    "    vstacked_img = np.vstack(vstacked_img)\n",
    "    hstacked_img.append(vstacked_img)\n",
    "    hstacked_img.append(np.ones((vstacked_img.shape[0], 5, 3))* 255)\n",
    "\n",
    "cv2.imwrite(os.path.join(output_basedir, 'manual_validationg.png'), np.hstack(hstacked_img))"
   ]
  },
  {
   "cell_type": "code",
   "execution_count": 12,
   "metadata": {},
   "outputs": [
    {
     "data": {
      "text/plain": [
       "'/fast/vijay/lung_adenocarcinoma/SCLC2_processed/SCLC2_masks.zip'"
      ]
     },
     "execution_count": 12,
     "metadata": {},
     "output_type": "execute_result"
    }
   ],
   "source": [
    "out_zip_name = '{}/{}_masks'.format(output_basedir, dataset_name)\n",
    "shutil.make_archive(out_zip_name, 'zip', \n",
    "                    os.path.join(output_basedir, 'masks_tma'), \n",
    "                    os.path.join(output_basedir, 'cd8_autofluorescence_masksg'))"
   ]
  }
 ],
 "metadata": {
  "kernelspec": {
   "display_name": "Python 3",
   "language": "python",
   "name": "python3"
  },
  "language_info": {
   "codemirror_mode": {
    "name": "ipython",
    "version": 3
   },
   "file_extension": ".py",
   "mimetype": "text/x-python",
   "name": "python",
   "nbconvert_exporter": "python",
   "pygments_lexer": "ipython3",
   "version": "3.8.5"
  }
 },
 "nbformat": 4,
 "nbformat_minor": 4
}
