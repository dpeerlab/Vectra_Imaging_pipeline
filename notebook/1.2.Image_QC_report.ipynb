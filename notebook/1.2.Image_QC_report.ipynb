{
 "cells": [
  {
   "cell_type": "markdown",
   "metadata": {},
   "source": [
    "# Image Quality Control report\n",
    "---"
   ]
  },
  {
   "cell_type": "markdown",
   "metadata": {},
   "source": [
    "Here we display all the channels in all images in each sample and provide compare before and after preprocessing."
   ]
  },
  {
   "cell_type": "markdown",
   "metadata": {},
   "source": [
    "## Load library"
   ]
  },
  {
   "cell_type": "code",
   "execution_count": 1,
   "metadata": {},
   "outputs": [],
   "source": [
    "import matplotlib.pyplot as plt\n",
    "from PIL import Image\n",
    "import os\n",
    "import numpy as np\n",
    "import glob\n",
    "import tifffile\n",
    "import gc\n",
    "import scipy.ndimage as ndimage\n",
    "import pandas as pd\n",
    "from davinci.vectra_tool import *"
   ]
  },
  {
   "cell_type": "markdown",
   "metadata": {},
   "source": [
    "## Define variables"
   ]
  },
  {
   "cell_type": "code",
   "execution_count": 2,
   "metadata": {},
   "outputs": [],
   "source": [
    "tiff_image_path = '../data/tif/*.tif'\n",
    "output_dir = '../report/'\n",
    "project_name = 'demo'"
   ]
  },
  {
   "cell_type": "markdown",
   "metadata": {},
   "source": [
    "## Load files"
   ]
  },
  {
   "cell_type": "code",
   "execution_count": 3,
   "metadata": {},
   "outputs": [
    {
     "name": "stdout",
     "output_type": "stream",
     "text": [
      "Unique sample name ['Sample1' 'Sample2']\n"
     ]
    }
   ],
   "source": [
    "tiff_images = sorted(glob.glob(tiff_image_path))\n",
    "channel_name = ['chan1', 'chan2', 'chan3', 'chan4', 'chan5', 'chan6', 'chan7']   # for real data: [x.description.split('<Name>')[1].split(' ')[0].split('<')[0].split('+')[0] for x in  tifffile.TiffFile(tiff_images[0]).pages[:7] ]\n",
    "sample_ids = (np.array([x.split('/')[-1].split(' ')[0] for i,x in enumerate(tiff_images)]))\n",
    "unique_sample = np.unique(sample_ids)\n",
    "print('Unique sample name',unique_sample)"
   ]
  },
  {
   "cell_type": "markdown",
   "metadata": {},
   "source": [
    "## Generate Report"
   ]
  },
  {
   "cell_type": "markdown",
   "metadata": {},
   "source": [
    "Before clean report. No threshold and Max cap values needed here. This can be done with raw data."
   ]
  },
  {
   "cell_type": "code",
   "execution_count": 4,
   "metadata": {},
   "outputs": [
    {
     "data": {
      "text/plain": [
       "0"
      ]
     },
     "execution_count": 4,
     "metadata": {},
     "output_type": "execute_result"
    }
   ],
   "source": [
    "for i,sample in enumerate(unique_sample):\n",
    "    paths = [x for x in tiff_images if sample in x]\n",
    "    id_ = [list(tiff_images).index(x) for x in paths]\n",
    "    one_report(img_paths=paths,save_dir=output_dir,show=False,project_name=project_name,channel_name=channel_name)\n",
    "    gc.collect()\n",
    "gc.collect()"
   ]
  },
  {
   "cell_type": "markdown",
   "metadata": {},
   "source": [
    "Before and after Clean report. Need threshold and max cap values from previous notebook."
   ]
  },
  {
   "cell_type": "code",
   "execution_count": 5,
   "metadata": {},
   "outputs": [],
   "source": [
    "thod_df = pd.read_csv('../parameter/threshold.csv',header=None)\n",
    "cap_df = pd.read_csv('../parameter/max_cap.csv',header=0,index_col=0)"
   ]
  },
  {
   "cell_type": "code",
   "execution_count": 6,
   "metadata": {},
   "outputs": [
    {
     "data": {
      "text/plain": [
       "0"
      ]
     },
     "execution_count": 6,
     "metadata": {},
     "output_type": "execute_result"
    }
   ],
   "source": [
    "for i,sample in enumerate(unique_sample):\n",
    "    paths = [x for x in tiff_images if sample in x]\n",
    "    id_ = [list(tiff_images).index(x) for x in tiff_images]\n",
    "    one_report_clean(img_paths=paths,sample_name=sample,id_=id_,save_dir=output_dir,show=False,project_name=project_name,thod_df=thod_df,cap_df=cap_df,channel_name=channel_name)\n",
    "    gc.collect()\n",
    "gc.collect()"
   ]
  },
  {
   "cell_type": "code",
   "execution_count": null,
   "metadata": {},
   "outputs": [],
   "source": []
  }
 ],
 "metadata": {
  "kernelspec": {
   "display_name": "Python3",
   "language": "python",
   "name": "python3"
  },
  "language_info": {
   "codemirror_mode": {
    "name": "ipython",
    "version": 3
   },
   "file_extension": ".py",
   "mimetype": "text/x-python",
   "name": "python",
   "nbconvert_exporter": "python",
   "pygments_lexer": "ipython3",
   "version": "3.6.8"
  }
 },
 "nbformat": 4,
 "nbformat_minor": 4
}
